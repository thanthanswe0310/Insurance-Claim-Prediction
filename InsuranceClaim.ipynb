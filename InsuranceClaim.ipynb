{
  "nbformat": 4,
  "nbformat_minor": 0,
  "metadata": {
    "colab": {
      "name": "InsuranceClaim.ipynb",
      "version": "0.3.2",
      "provenance": [],
      "collapsed_sections": [],
      "include_colab_link": true
    },
    "kernelspec": {
      "name": "python3",
      "display_name": "Python 3"
    }
  },
  "cells": [
    {
      "cell_type": "markdown",
      "metadata": {
        "id": "view-in-github",
        "colab_type": "text"
      },
      "source": [
        "<a href=\"https://colab.research.google.com/github/roshank1605A04/Insurance-Claim-Prediction/blob/master/InsuranceClaim.ipynb\" target=\"_parent\"><img src=\"https://colab.research.google.com/assets/colab-badge.svg\" alt=\"Open In Colab\"/></a>"
      ]
    },
    {
      "metadata": {
        "id": "notVEk3HGpl0",
        "colab_type": "text"
      },
      "cell_type": "markdown",
      "source": [
        "**Installing the Libraries**"
      ]
    },
    {
      "metadata": {
        "id": "4MuyqMq6GHNO",
        "colab_type": "code",
        "colab": {}
      },
      "cell_type": "code",
      "source": [
        "import numpy as np\n",
        "import pandas as pd\n",
        "\n",
        "import matplotlib.pyplot as plt\n",
        "import seaborn as sns"
      ],
      "execution_count": 0,
      "outputs": []
    },
    {
      "metadata": {
        "id": "HMQ7HZ5dHcPC",
        "colab_type": "text"
      },
      "cell_type": "markdown",
      "source": [
        "**Importing the Dataset**"
      ]
    },
    {
      "metadata": {
        "id": "CZ5UDRJMHQJ2",
        "colab_type": "code",
        "outputId": "ea6812e6-828b-4fa4-c8d5-655fb8181d4b",
        "colab": {
          "base_uri": "https://localhost:8080/",
          "height": 224
        }
      },
      "cell_type": "code",
      "source": [
        "data = pd.read_csv('drive/My Drive/Projects/insuarance claim/insurance.csv')\n",
        "\n",
        "print(data.shape)\n",
        "\n",
        "data.head()"
      ],
      "execution_count": 0,
      "outputs": [
        {
          "output_type": "stream",
          "text": [
            "(1338, 7)\n"
          ],
          "name": "stdout"
        },
        {
          "output_type": "execute_result",
          "data": {
            "text/html": [
              "<div>\n",
              "<style scoped>\n",
              "    .dataframe tbody tr th:only-of-type {\n",
              "        vertical-align: middle;\n",
              "    }\n",
              "\n",
              "    .dataframe tbody tr th {\n",
              "        vertical-align: top;\n",
              "    }\n",
              "\n",
              "    .dataframe thead th {\n",
              "        text-align: right;\n",
              "    }\n",
              "</style>\n",
              "<table border=\"1\" class=\"dataframe\">\n",
              "  <thead>\n",
              "    <tr style=\"text-align: right;\">\n",
              "      <th></th>\n",
              "      <th>age</th>\n",
              "      <th>sex</th>\n",
              "      <th>bmi</th>\n",
              "      <th>children</th>\n",
              "      <th>smoker</th>\n",
              "      <th>region</th>\n",
              "      <th>charges</th>\n",
              "    </tr>\n",
              "  </thead>\n",
              "  <tbody>\n",
              "    <tr>\n",
              "      <th>0</th>\n",
              "      <td>19</td>\n",
              "      <td>female</td>\n",
              "      <td>27.900</td>\n",
              "      <td>0</td>\n",
              "      <td>yes</td>\n",
              "      <td>southwest</td>\n",
              "      <td>16884.92400</td>\n",
              "    </tr>\n",
              "    <tr>\n",
              "      <th>1</th>\n",
              "      <td>18</td>\n",
              "      <td>male</td>\n",
              "      <td>33.770</td>\n",
              "      <td>1</td>\n",
              "      <td>no</td>\n",
              "      <td>southeast</td>\n",
              "      <td>1725.55230</td>\n",
              "    </tr>\n",
              "    <tr>\n",
              "      <th>2</th>\n",
              "      <td>28</td>\n",
              "      <td>male</td>\n",
              "      <td>33.000</td>\n",
              "      <td>3</td>\n",
              "      <td>no</td>\n",
              "      <td>southeast</td>\n",
              "      <td>4449.46200</td>\n",
              "    </tr>\n",
              "    <tr>\n",
              "      <th>3</th>\n",
              "      <td>33</td>\n",
              "      <td>male</td>\n",
              "      <td>22.705</td>\n",
              "      <td>0</td>\n",
              "      <td>no</td>\n",
              "      <td>northwest</td>\n",
              "      <td>21984.47061</td>\n",
              "    </tr>\n",
              "    <tr>\n",
              "      <th>4</th>\n",
              "      <td>32</td>\n",
              "      <td>male</td>\n",
              "      <td>28.880</td>\n",
              "      <td>0</td>\n",
              "      <td>no</td>\n",
              "      <td>northwest</td>\n",
              "      <td>3866.85520</td>\n",
              "    </tr>\n",
              "  </tbody>\n",
              "</table>\n",
              "</div>"
            ],
            "text/plain": [
              "   age     sex     bmi  children smoker     region      charges\n",
              "0   19  female  27.900         0    yes  southwest  16884.92400\n",
              "1   18    male  33.770         1     no  southeast   1725.55230\n",
              "2   28    male  33.000         3     no  southeast   4449.46200\n",
              "3   33    male  22.705         0     no  northwest  21984.47061\n",
              "4   32    male  28.880         0     no  northwest   3866.85520"
            ]
          },
          "metadata": {
            "tags": []
          },
          "execution_count": 169
        }
      ]
    },
    {
      "metadata": {
        "id": "UmEDUlCKIEgJ",
        "colab_type": "code",
        "outputId": "63ba3f7a-602f-44c1-b501-3da6fcee2f90",
        "colab": {
          "base_uri": "https://localhost:8080/",
          "height": 235
        }
      },
      "cell_type": "code",
      "source": [
        "data.info()"
      ],
      "execution_count": 0,
      "outputs": [
        {
          "output_type": "stream",
          "text": [
            "<class 'pandas.core.frame.DataFrame'>\n",
            "RangeIndex: 1338 entries, 0 to 1337\n",
            "Data columns (total 7 columns):\n",
            "age         1338 non-null int64\n",
            "sex         1338 non-null object\n",
            "bmi         1338 non-null float64\n",
            "children    1338 non-null int64\n",
            "smoker      1338 non-null object\n",
            "region      1338 non-null object\n",
            "charges     1338 non-null float64\n",
            "dtypes: float64(2), int64(2), object(3)\n",
            "memory usage: 73.2+ KB\n"
          ],
          "name": "stdout"
        }
      ]
    },
    {
      "metadata": {
        "id": "H72EfJJeJgOk",
        "colab_type": "code",
        "outputId": "7a3578e2-febf-48e4-af02-d52d1a54a039",
        "colab": {
          "base_uri": "https://localhost:8080/",
          "height": 300
        }
      },
      "cell_type": "code",
      "source": [
        "data.describe()"
      ],
      "execution_count": 0,
      "outputs": [
        {
          "output_type": "execute_result",
          "data": {
            "text/html": [
              "<div>\n",
              "<style scoped>\n",
              "    .dataframe tbody tr th:only-of-type {\n",
              "        vertical-align: middle;\n",
              "    }\n",
              "\n",
              "    .dataframe tbody tr th {\n",
              "        vertical-align: top;\n",
              "    }\n",
              "\n",
              "    .dataframe thead th {\n",
              "        text-align: right;\n",
              "    }\n",
              "</style>\n",
              "<table border=\"1\" class=\"dataframe\">\n",
              "  <thead>\n",
              "    <tr style=\"text-align: right;\">\n",
              "      <th></th>\n",
              "      <th>age</th>\n",
              "      <th>bmi</th>\n",
              "      <th>children</th>\n",
              "      <th>charges</th>\n",
              "    </tr>\n",
              "  </thead>\n",
              "  <tbody>\n",
              "    <tr>\n",
              "      <th>count</th>\n",
              "      <td>1338.000000</td>\n",
              "      <td>1338.000000</td>\n",
              "      <td>1338.000000</td>\n",
              "      <td>1338.000000</td>\n",
              "    </tr>\n",
              "    <tr>\n",
              "      <th>mean</th>\n",
              "      <td>39.207025</td>\n",
              "      <td>30.663397</td>\n",
              "      <td>1.094918</td>\n",
              "      <td>13270.422265</td>\n",
              "    </tr>\n",
              "    <tr>\n",
              "      <th>std</th>\n",
              "      <td>14.049960</td>\n",
              "      <td>6.098187</td>\n",
              "      <td>1.205493</td>\n",
              "      <td>12110.011237</td>\n",
              "    </tr>\n",
              "    <tr>\n",
              "      <th>min</th>\n",
              "      <td>18.000000</td>\n",
              "      <td>15.960000</td>\n",
              "      <td>0.000000</td>\n",
              "      <td>1121.873900</td>\n",
              "    </tr>\n",
              "    <tr>\n",
              "      <th>25%</th>\n",
              "      <td>27.000000</td>\n",
              "      <td>26.296250</td>\n",
              "      <td>0.000000</td>\n",
              "      <td>4740.287150</td>\n",
              "    </tr>\n",
              "    <tr>\n",
              "      <th>50%</th>\n",
              "      <td>39.000000</td>\n",
              "      <td>30.400000</td>\n",
              "      <td>1.000000</td>\n",
              "      <td>9382.033000</td>\n",
              "    </tr>\n",
              "    <tr>\n",
              "      <th>75%</th>\n",
              "      <td>51.000000</td>\n",
              "      <td>34.693750</td>\n",
              "      <td>2.000000</td>\n",
              "      <td>16639.912515</td>\n",
              "    </tr>\n",
              "    <tr>\n",
              "      <th>max</th>\n",
              "      <td>64.000000</td>\n",
              "      <td>53.130000</td>\n",
              "      <td>5.000000</td>\n",
              "      <td>63770.428010</td>\n",
              "    </tr>\n",
              "  </tbody>\n",
              "</table>\n",
              "</div>"
            ],
            "text/plain": [
              "               age          bmi     children       charges\n",
              "count  1338.000000  1338.000000  1338.000000   1338.000000\n",
              "mean     39.207025    30.663397     1.094918  13270.422265\n",
              "std      14.049960     6.098187     1.205493  12110.011237\n",
              "min      18.000000    15.960000     0.000000   1121.873900\n",
              "25%      27.000000    26.296250     0.000000   4740.287150\n",
              "50%      39.000000    30.400000     1.000000   9382.033000\n",
              "75%      51.000000    34.693750     2.000000  16639.912515\n",
              "max      64.000000    53.130000     5.000000  63770.428010"
            ]
          },
          "metadata": {
            "tags": []
          },
          "execution_count": 171
        }
      ]
    },
    {
      "metadata": {
        "id": "-IdezVqPJlJr",
        "colab_type": "code",
        "outputId": "78760731-ed92-49d7-e4c2-2f106dcc3f68",
        "colab": {
          "base_uri": "https://localhost:8080/",
          "height": 163
        }
      },
      "cell_type": "code",
      "source": [
        "data.isnull().sum()"
      ],
      "execution_count": 0,
      "outputs": [
        {
          "output_type": "execute_result",
          "data": {
            "text/plain": [
              "age         0\n",
              "sex         0\n",
              "bmi         0\n",
              "children    0\n",
              "smoker      0\n",
              "region      0\n",
              "charges     0\n",
              "dtype: int64"
            ]
          },
          "metadata": {
            "tags": []
          },
          "execution_count": 172
        }
      ]
    },
    {
      "metadata": {
        "id": "QrPgZwToKGWb",
        "colab_type": "code",
        "outputId": "aaafe666-3f9c-47c1-a3b6-0f9b8526a1ee",
        "colab": {
          "base_uri": "https://localhost:8080/",
          "height": 72
        }
      },
      "cell_type": "code",
      "source": [
        "data['sex'].value_counts()"
      ],
      "execution_count": 0,
      "outputs": [
        {
          "output_type": "execute_result",
          "data": {
            "text/plain": [
              "male      676\n",
              "female    662\n",
              "Name: sex, dtype: int64"
            ]
          },
          "metadata": {
            "tags": []
          },
          "execution_count": 173
        }
      ]
    },
    {
      "metadata": {
        "id": "UP0dlgT6KUCM",
        "colab_type": "code",
        "outputId": "a650c31b-b87b-4d21-8804-a492e71fc822",
        "colab": {
          "base_uri": "https://localhost:8080/",
          "height": 891
        }
      },
      "cell_type": "code",
      "source": [
        "data['age'].value_counts()"
      ],
      "execution_count": 0,
      "outputs": [
        {
          "output_type": "execute_result",
          "data": {
            "text/plain": [
              "18    69\n",
              "19    68\n",
              "51    29\n",
              "45    29\n",
              "46    29\n",
              "47    29\n",
              "48    29\n",
              "50    29\n",
              "52    29\n",
              "20    29\n",
              "26    28\n",
              "54    28\n",
              "53    28\n",
              "25    28\n",
              "24    28\n",
              "49    28\n",
              "23    28\n",
              "22    28\n",
              "21    28\n",
              "27    28\n",
              "28    28\n",
              "31    27\n",
              "29    27\n",
              "30    27\n",
              "41    27\n",
              "43    27\n",
              "44    27\n",
              "40    27\n",
              "42    27\n",
              "57    26\n",
              "34    26\n",
              "33    26\n",
              "32    26\n",
              "56    26\n",
              "55    26\n",
              "59    25\n",
              "58    25\n",
              "39    25\n",
              "38    25\n",
              "35    25\n",
              "36    25\n",
              "37    25\n",
              "63    23\n",
              "60    23\n",
              "61    23\n",
              "62    23\n",
              "64    22\n",
              "Name: age, dtype: int64"
            ]
          },
          "metadata": {
            "tags": []
          },
          "execution_count": 174
        }
      ]
    },
    {
      "metadata": {
        "id": "xEy1fzKwKeMi",
        "colab_type": "code",
        "outputId": "5cc6f644-4383-4920-88f8-dac637e61670",
        "colab": {
          "base_uri": "https://localhost:8080/",
          "height": 144
        }
      },
      "cell_type": "code",
      "source": [
        "data['children'].value_counts()"
      ],
      "execution_count": 0,
      "outputs": [
        {
          "output_type": "execute_result",
          "data": {
            "text/plain": [
              "0    574\n",
              "1    324\n",
              "2    240\n",
              "3    157\n",
              "4     25\n",
              "5     18\n",
              "Name: children, dtype: int64"
            ]
          },
          "metadata": {
            "tags": []
          },
          "execution_count": 175
        }
      ]
    },
    {
      "metadata": {
        "id": "kx0_OVg_Kqvz",
        "colab_type": "code",
        "outputId": "dd1baf0e-ba7e-4772-be61-6d336fbfeeef",
        "colab": {
          "base_uri": "https://localhost:8080/",
          "height": 72
        }
      },
      "cell_type": "code",
      "source": [
        "data['smoker'].value_counts()"
      ],
      "execution_count": 0,
      "outputs": [
        {
          "output_type": "execute_result",
          "data": {
            "text/plain": [
              "no     1064\n",
              "yes     274\n",
              "Name: smoker, dtype: int64"
            ]
          },
          "metadata": {
            "tags": []
          },
          "execution_count": 176
        }
      ]
    },
    {
      "metadata": {
        "id": "l1hN5msDKz4t",
        "colab_type": "code",
        "outputId": "75a6f29e-2be1-49a2-d542-a11cc0b214c2",
        "colab": {
          "base_uri": "https://localhost:8080/",
          "height": 108
        }
      },
      "cell_type": "code",
      "source": [
        "data['region'].value_counts()"
      ],
      "execution_count": 0,
      "outputs": [
        {
          "output_type": "execute_result",
          "data": {
            "text/plain": [
              "southeast    364\n",
              "northwest    325\n",
              "southwest    325\n",
              "northeast    324\n",
              "Name: region, dtype: int64"
            ]
          },
          "metadata": {
            "tags": []
          },
          "execution_count": 177
        }
      ]
    },
    {
      "metadata": {
        "id": "2SvtnsDLK7Hn",
        "colab_type": "code",
        "outputId": "01cadb79-efae-4316-8491-2ba03126f9e1",
        "colab": {
          "base_uri": "https://localhost:8080/",
          "height": 35
        }
      },
      "cell_type": "code",
      "source": [
        "data.columns"
      ],
      "execution_count": 0,
      "outputs": [
        {
          "output_type": "execute_result",
          "data": {
            "text/plain": [
              "Index(['age', 'sex', 'bmi', 'children', 'smoker', 'region', 'charges'], dtype='object')"
            ]
          },
          "metadata": {
            "tags": []
          },
          "execution_count": 178
        }
      ]
    },
    {
      "metadata": {
        "id": "MDf-b51wSV3-",
        "colab_type": "text"
      },
      "cell_type": "markdown",
      "source": [
        "**Data Analysis**"
      ]
    },
    {
      "metadata": {
        "id": "moW1_ymGSTQ-",
        "colab_type": "code",
        "outputId": "b267ba48-a612-4fc5-e9b6-7cc66b8a0d3d",
        "colab": {
          "base_uri": "https://localhost:8080/",
          "height": 587
        }
      },
      "cell_type": "code",
      "source": [
        "# Age vs Charges\n",
        "# the more the age the more will be insurance charge (roughly estimated)\n",
        "\n",
        "plt.figure(figsize = (12, 8))\n",
        "sns.barplot(x = 'age', y = 'charges', data = data)\n",
        "\n",
        "plt.title(\"Age vs Charges\")"
      ],
      "execution_count": 0,
      "outputs": [
        {
          "output_type": "stream",
          "text": [
            "/usr/local/lib/python3.6/dist-packages/seaborn/categorical.py:1428: FutureWarning: remove_na is deprecated and is a private function. Do not use.\n",
            "  stat_data = remove_na(group_data)\n"
          ],
          "name": "stderr"
        },
        {
          "output_type": "execute_result",
          "data": {
            "text/plain": [
              "Text(0.5,1,'Age vs Charges')"
            ]
          },
          "metadata": {
            "tags": []
          },
          "execution_count": 179
        },
        {
          "output_type": "display_data",
          "data": {
            "image/png": "[encoded data removed]",
            "text/plain": [
              "<matplotlib.figure.Figure at 0x7f87df117d68>"
            ]
          },
          "metadata": {
            "tags": []
          }
        }
      ]
    },
    {
      "metadata": {
        "id": "9DJIbfZ9TOh8",
        "colab_type": "code",
        "outputId": "5f0c849b-6990-413f-f0bc-885ea331a65e",
        "colab": {
          "base_uri": "https://localhost:8080/",
          "height": 478
        }
      },
      "cell_type": "code",
      "source": [
        "# sex vs charges\n",
        "# males have slightly greater insurance charges than females in general\n",
        "\n",
        "plt.figure(figsize = (6, 6))\n",
        "sns.barplot(x = 'sex', y = 'charges', data = data)\n",
        "\n",
        "plt.title('sex vs charges')"
      ],
      "execution_count": 0,
      "outputs": [
        {
          "output_type": "stream",
          "text": [
            "/usr/local/lib/python3.6/dist-packages/seaborn/categorical.py:1428: FutureWarning: remove_na is deprecated and is a private function. Do not use.\n",
            "  stat_data = remove_na(group_data)\n"
          ],
          "name": "stderr"
        },
        {
          "output_type": "execute_result",
          "data": {
            "text/plain": [
              "Text(0.5,1,'sex vs charges')"
            ]
          },
          "metadata": {
            "tags": []
          },
          "execution_count": 180
        },
        {
          "output_type": "display_data",
          "data": {
            "image/png": "[encoded data removed]",
            "text/plain": [
              "<matplotlib.figure.Figure at 0x7f87e01f9358>"
            ]
          },
          "metadata": {
            "tags": []
          }
        }
      ]
    },
    {
      "metadata": {
        "id": "rWTY7O8vTxeW",
        "colab_type": "code",
        "outputId": "3dd1c7ab-9be0-4368-8a7c-a7a9abe2e350",
        "colab": {
          "base_uri": "https://localhost:8080/",
          "height": 587
        }
      },
      "cell_type": "code",
      "source": [
        "# children vs charges\n",
        "# no. of childrens of a person has a very interesting dependency on insurance costs\n",
        "\n",
        "plt.figure(figsize = (12, 8))\n",
        "sns.barplot(x = 'children', y = 'charges', data = data)\n",
        "\n",
        "plt.title('children vs charges')"
      ],
      "execution_count": 0,
      "outputs": [
        {
          "output_type": "stream",
          "text": [
            "/usr/local/lib/python3.6/dist-packages/seaborn/categorical.py:1428: FutureWarning: remove_na is deprecated and is a private function. Do not use.\n",
            "  stat_data = remove_na(group_data)\n"
          ],
          "name": "stderr"
        },
        {
          "output_type": "execute_result",
          "data": {
            "text/plain": [
              "Text(0.5,1,'children vs charges')"
            ]
          },
          "metadata": {
            "tags": []
          },
          "execution_count": 181
        },
        {
          "output_type": "display_data",
          "data": {
            "image/png": "[encoded data removed]",
            "text/plain": [
              "<matplotlib.figure.Figure at 0x7f87e01a2588>"
            ]
          },
          "metadata": {
            "tags": []
          }
        }
      ]
    },
    {
      "metadata": {
        "id": "KYaqiln6UQbo",
        "colab_type": "code",
        "outputId": "dacd7c11-bb0e-48f8-ad58-4e8d0906d356",
        "colab": {
          "base_uri": "https://localhost:8080/",
          "height": 587
        }
      },
      "cell_type": "code",
      "source": [
        "# region vs charges\n",
        "# From the graph we can see that the region actually does not play any role in determining the insurance charges\n",
        "\n",
        "plt.figure(figsize = (12, 8))\n",
        "sns.barplot(x = 'region', y = 'charges', data = data)\n",
        "\n",
        "plt.title('region vs charges')"
      ],
      "execution_count": 0,
      "outputs": [
        {
          "output_type": "stream",
          "text": [
            "/usr/local/lib/python3.6/dist-packages/seaborn/categorical.py:1428: FutureWarning: remove_na is deprecated and is a private function. Do not use.\n",
            "  stat_data = remove_na(group_data)\n"
          ],
          "name": "stderr"
        },
        {
          "output_type": "execute_result",
          "data": {
            "text/plain": [
              "Text(0.5,1,'region vs charges')"
            ]
          },
          "metadata": {
            "tags": []
          },
          "execution_count": 182
        },
        {
          "output_type": "display_data",
          "data": {
            "image/png": "[encoded data removed]",
            "text/plain": [
              "<matplotlib.figure.Figure at 0x7f87dfbe4710>"
            ]
          },
          "metadata": {
            "tags": []
          }
        }
      ]
    },
    {
      "metadata": {
        "id": "4D6DWu4LUi9V",
        "colab_type": "code",
        "outputId": "24d88398-dfa7-4f47-fe1f-39d0892030ac",
        "colab": {
          "base_uri": "https://localhost:8080/",
          "height": 478
        }
      },
      "cell_type": "code",
      "source": [
        "# smoker vs charges\n",
        "# from the graph below, it is visible that smokers have more insurance charges than the non smokers\n",
        "\n",
        "plt.figure(figsize = (6, 6))\n",
        "sns.barplot(x = 'smoker', y = 'charges', data = data)\n",
        "\n",
        "plt.title('smoker vs charges')"
      ],
      "execution_count": 0,
      "outputs": [
        {
          "output_type": "stream",
          "text": [
            "/usr/local/lib/python3.6/dist-packages/seaborn/categorical.py:1428: FutureWarning: remove_na is deprecated and is a private function. Do not use.\n",
            "  stat_data = remove_na(group_data)\n"
          ],
          "name": "stderr"
        },
        {
          "output_type": "execute_result",
          "data": {
            "text/plain": [
              "Text(0.5,1,'smoker vs charges')"
            ]
          },
          "metadata": {
            "tags": []
          },
          "execution_count": 183
        },
        {
          "output_type": "display_data",
          "data": {
            "image/png": "[encoded data removed]",
            "text/plain": [
              "<matplotlib.figure.Figure at 0x7f87dfbe4898>"
            ]
          },
          "metadata": {
            "tags": []
          }
        }
      ]
    },
    {
      "metadata": {
        "id": "-YjQjcXcaTpl",
        "colab_type": "text"
      },
      "cell_type": "markdown",
      "source": [
        "**Correlation Plot**"
      ]
    },
    {
      "metadata": {
        "id": "c3NXyPrDaZEw",
        "colab_type": "code",
        "outputId": "cf71ac4d-aa34-4dbb-d89e-df2b68949c5d",
        "colab": {
          "base_uri": "https://localhost:8080/",
          "height": 596
        }
      },
      "cell_type": "code",
      "source": [
        "# plotting the correlation plot for the dataset\n",
        "\n",
        "f, ax = plt.subplots(figsize = (10, 10))\n",
        "\n",
        "corr = data.corr()\n",
        "sns.heatmap(corr, mask = np.zeros_like(corr, dtype = np.bool), \n",
        "            cmap = sns.diverging_palette(50, 10, as_cmap = True), square = True, ax = ax)"
      ],
      "execution_count": 0,
      "outputs": [
        {
          "output_type": "execute_result",
          "data": {
            "text/plain": [
              "<matplotlib.axes._subplots.AxesSubplot at 0x7f87dfbd6ba8>"
            ]
          },
          "metadata": {
            "tags": []
          },
          "execution_count": 184
        },
        {
          "output_type": "display_data",
          "data": {
            "image/png": "[encoded data removed]",
            "text/plain": [
              "<matplotlib.figure.Figure at 0x7f87dfbe4940>"
            ]
          },
          "metadata": {
            "tags": []
          }
        }
      ]
    },
    {
      "metadata": {
        "id": "MAIrZByUV3EX",
        "colab_type": "text"
      },
      "cell_type": "markdown",
      "source": [
        "**Data Pre-processing**"
      ]
    },
    {
      "metadata": {
        "id": "lwae6FtGUnZK",
        "colab_type": "code",
        "outputId": "4417b4da-b1e7-429f-b6f6-421561090d94",
        "colab": {
          "base_uri": "https://localhost:8080/",
          "height": 53
        }
      },
      "cell_type": "code",
      "source": [
        "# removing unnecassary columns from the dataset\n",
        "\n",
        "data = data.drop('region', axis = 1)\n",
        "\n",
        "print(data.shape)\n",
        "\n",
        "data.columns"
      ],
      "execution_count": 0,
      "outputs": [
        {
          "output_type": "stream",
          "text": [
            "(1338, 6)\n"
          ],
          "name": "stdout"
        },
        {
          "output_type": "execute_result",
          "data": {
            "text/plain": [
              "Index(['age', 'sex', 'bmi', 'children', 'smoker', 'charges'], dtype='object')"
            ]
          },
          "metadata": {
            "tags": []
          },
          "execution_count": 185
        }
      ]
    },
    {
      "metadata": {
        "id": "0LK16BtFWSF4",
        "colab_type": "code",
        "colab": {}
      },
      "cell_type": "code",
      "source": [
        "# label encoding for sex and smoker\n",
        "\n",
        "# importing label encoder\n",
        "from sklearn.preprocessing import LabelEncoder\n",
        "\n",
        "# creating a label encoder\n",
        "le = LabelEncoder()\n",
        "\n",
        "\n",
        "# label encoding for sex\n",
        "# 0 for females and 1 for males\n",
        "data['sex'] = le.fit_transform(data['sex'])\n",
        "\n",
        "# label encoding for smoker\n",
        "# 0 for smokers and 1 for non smokers\n",
        "data['smoker'] = le.fit_transform(data['smoker'])"
      ],
      "execution_count": 0,
      "outputs": []
    },
    {
      "metadata": {
        "id": "KcCEqPqDX2XN",
        "colab_type": "code",
        "outputId": "1d9f8ea3-c5c7-4cc3-f691-f1b907910a43",
        "colab": {
          "base_uri": "https://localhost:8080/",
          "height": 72
        }
      },
      "cell_type": "code",
      "source": [
        "data['sex'].value_counts()"
      ],
      "execution_count": 0,
      "outputs": [
        {
          "output_type": "execute_result",
          "data": {
            "text/plain": [
              "1    676\n",
              "0    662\n",
              "Name: sex, dtype: int64"
            ]
          },
          "metadata": {
            "tags": []
          },
          "execution_count": 187
        }
      ]
    },
    {
      "metadata": {
        "id": "Q75usRuGZQDy",
        "colab_type": "code",
        "outputId": "1e431458-e040-4f18-b398-238f96021cd5",
        "colab": {
          "base_uri": "https://localhost:8080/",
          "height": 72
        }
      },
      "cell_type": "code",
      "source": [
        "data['smoker'].value_counts()"
      ],
      "execution_count": 0,
      "outputs": [
        {
          "output_type": "execute_result",
          "data": {
            "text/plain": [
              "0    1064\n",
              "1     274\n",
              "Name: smoker, dtype: int64"
            ]
          },
          "metadata": {
            "tags": []
          },
          "execution_count": 188
        }
      ]
    },
    {
      "metadata": {
        "id": "aKMOtdFYZTmQ",
        "colab_type": "code",
        "outputId": "0925caa8-c008-44b1-b4d3-5e8142d66275",
        "colab": {
          "base_uri": "https://localhost:8080/",
          "height": 53
        }
      },
      "cell_type": "code",
      "source": [
        "# splitting the dependent and independent variable\n",
        "\n",
        "x = data.iloc[:,:5]\n",
        "y = data.iloc[:,5]\n",
        "\n",
        "print(x.shape)\n",
        "print(y.shape)"
      ],
      "execution_count": 0,
      "outputs": [
        {
          "output_type": "stream",
          "text": [
            "(1338, 5)\n",
            "(1338,)\n"
          ],
          "name": "stdout"
        }
      ]
    },
    {
      "metadata": {
        "id": "gRO-8MMhaDdS",
        "colab_type": "code",
        "outputId": "92bca0fd-49fc-49cb-fae2-507c5ac3ea1a",
        "colab": {
          "base_uri": "https://localhost:8080/",
          "height": 90
        }
      },
      "cell_type": "code",
      "source": [
        "# splitting the dataset into training and testing sets\n",
        "\n",
        "from sklearn.cross_validation import train_test_split\n",
        "\n",
        "x_train, x_test, y_train, y_test = train_test_split(x, y, test_size = 0.2, random_state = 30)\n",
        "\n",
        "print(x_train.shape)\n",
        "print(x_test.shape)\n",
        "print(y_train.shape)\n",
        "print(y_test.shape)"
      ],
      "execution_count": 0,
      "outputs": [
        {
          "output_type": "stream",
          "text": [
            "(1070, 5)\n",
            "(268, 5)\n",
            "(1070,)\n",
            "(268,)\n"
          ],
          "name": "stdout"
        }
      ]
    },
    {
      "metadata": {
        "id": "segWD0A0cXKk",
        "colab_type": "code",
        "colab": {}
      },
      "cell_type": "code",
      "source": [
        "# standard scaling\n",
        "\n",
        "from sklearn.preprocessing import StandardScaler\n",
        "\n",
        "# creating a standard scaler\n",
        "sc = StandardScaler()\n",
        "\n",
        "# feeding independents sets into the standard scaler\n",
        "x_train = sc.fit_transform(x_train)\n",
        "x_test = sc.fit_transform(x_test)\n",
        "\n"
      ],
      "execution_count": 0,
      "outputs": []
    },
    {
      "metadata": {
        "id": "U0Gyy6rzd3TP",
        "colab_type": "text"
      },
      "cell_type": "markdown",
      "source": [
        "**Modelling**"
      ]
    },
    {
      "metadata": {
        "id": "yDE5ss6ij7QS",
        "colab_type": "text"
      },
      "cell_type": "markdown",
      "source": [
        "**Linear Regression**"
      ]
    },
    {
      "metadata": {
        "id": "62CTGLqjc83y",
        "colab_type": "code",
        "outputId": "4b0547d3-7bbe-4366-cf58-02df085b217a",
        "colab": {
          "base_uri": "https://localhost:8080/",
          "height": 72
        }
      },
      "cell_type": "code",
      "source": [
        "from sklearn.linear_model import LinearRegression\n",
        "from sklearn.metrics import r2_score\n",
        "\n",
        "\n",
        "# creating the model\n",
        "model = LinearRegression()\n",
        "\n",
        "# feeding the training data to the model\n",
        "model.fit(x_train, y_train)\n",
        "\n",
        "# predicting the test set results\n",
        "y_pred = model.predict(x_test)\n",
        "\n",
        "# calculating the mean squared error\n",
        "mse = np.mean((y_test - y_pred)**2, axis = None)\n",
        "print(\"MSE :\", mse)\n",
        "\n",
        "# Calculating the root mean squared error\n",
        "rmse = np.sqrt(mse)\n",
        "print(\"RMSE :\", rmse)\n",
        "\n",
        "# Calculating the r2 score\n",
        "r2 = r2_score(y_test, y_pred)\n",
        "print(\"r2 score :\", r2)\n",
        "\n"
      ],
      "execution_count": 0,
      "outputs": [
        {
          "output_type": "stream",
          "text": [
            "MSE : 37806750.25007656\n",
            "RMSE : 6148.719399198223\n",
            "r2 score : 0.75490433195409\n"
          ],
          "name": "stdout"
        }
      ]
    },
    {
      "metadata": {
        "id": "M1f1Cg7uhXqP",
        "colab_type": "code",
        "outputId": "9428ff4b-7d6b-40a5-d1a3-f75fdf5807aa",
        "colab": {
          "base_uri": "https://localhost:8080/",
          "height": 1145
        }
      },
      "cell_type": "code",
      "source": [
        "y_test"
      ],
      "execution_count": 0,
      "outputs": [
        {
          "output_type": "execute_result",
          "data": {
            "text/plain": [
              "338     41919.09700\n",
              "620      3659.34600\n",
              "965      4746.34400\n",
              "128     32734.18630\n",
              "329      9144.56500\n",
              "440      4738.26820\n",
              "1215    12890.05765\n",
              "387     30284.64294\n",
              "1037    39725.51805\n",
              "1015    12124.99240\n",
              "878      6282.23500\n",
              "171      8116.68000\n",
              "1090    41676.08110\n",
              "544     10231.49990\n",
              "648      1712.22700\n",
              "664     27037.91410\n",
              "313      8124.40840\n",
              "1293     9301.89355\n",
              "417     18608.26200\n",
              "1280     8283.68070\n",
              "349      1635.73365\n",
              "93       5729.00530\n",
              "400      9264.79700\n",
              "805      7731.85785\n",
              "52      23568.27200\n",
              "94      47291.05500\n",
              "1018    12495.29085\n",
              "981      4500.33925\n",
              "272      7265.70250\n",
              "405     11396.90020\n",
              "           ...     \n",
              "1063     6548.19505\n",
              "30      35585.57600\n",
              "752     14210.53595\n",
              "1084    15019.76005\n",
              "1259    10197.77220\n",
              "90       2026.97410\n",
              "962     14474.67500\n",
              "131     13616.35860\n",
              "1163     2200.83085\n",
              "12       1826.84300\n",
              "671      3943.59540\n",
              "1132    20709.02034\n",
              "1245     5615.36900\n",
              "424      8968.33000\n",
              "718     10848.13430\n",
              "244     29523.16560\n",
              "238     17352.68030\n",
              "984      4915.05985\n",
              "1144     9630.39700\n",
              "844     10072.05505\n",
              "841     12323.93600\n",
              "1250    18648.42170\n",
              "929      6289.75490\n",
              "588     13635.63790\n",
              "1277     4357.04365\n",
              "580     12913.99240\n",
              "786     12741.16745\n",
              "321     24671.66334\n",
              "903      8125.78450\n",
              "613      6753.03800\n",
              "Name: charges, Length: 268, dtype: float64"
            ]
          },
          "metadata": {
            "tags": []
          },
          "execution_count": 193
        }
      ]
    },
    {
      "metadata": {
        "id": "Yo20fBQpiY7P",
        "colab_type": "code",
        "outputId": "99a24d40-e2a1-4eb5-8b01-f23bbe5b30de",
        "colab": {
          "base_uri": "https://localhost:8080/",
          "height": 1236
        }
      },
      "cell_type": "code",
      "source": [
        "y_pred"
      ],
      "execution_count": 0,
      "outputs": [
        {
          "output_type": "execute_result",
          "data": {
            "text/plain": [
              "array([34463.03582081,  5351.63285316,  5380.9763682 , 25960.03740848,\n",
              "       12496.7519736 ,  6408.63819349,  4081.62037308,  9300.34454944,\n",
              "       32957.30705757, 10937.63104598,  7519.13584334,  9726.30820152,\n",
              "       34438.32925237, 11046.23596617,   819.90626006, 35368.51634447,\n",
              "       11430.73775682,  8747.50405981, 28520.23066838, 10780.77269818,\n",
              "         885.55261833,  8140.91449068,  7686.87521254, 10734.04414171,\n",
              "       32605.85490348, 38733.33147903, 14385.6266007 ,  2947.77854767,\n",
              "       10456.87417122, 14224.24201886,  1675.51537561, 30193.11285619,\n",
              "         944.28091937, 14459.05536274, 12261.67368565,  8411.64973742,\n",
              "        1863.86250159,  6487.85043844,   186.61387983,  8192.76868362,\n",
              "        6366.87004436, 33513.53920691,  2007.49195393, 13551.24985198,\n",
              "       10145.95016308, 29556.16908321,  4878.71697149,  2536.59789849,\n",
              "        2321.4068302 ,  4974.23941116, 10987.31701618, 12416.97110239,\n",
              "       11958.11247547,   878.6345611 , 10867.31696491,  7014.47673418,\n",
              "       30770.43624113,  3085.98932145, 12488.52222358,  4450.51876345,\n",
              "       14678.35341681, 10623.53897858, 10948.69439689,  7374.3905582 ,\n",
              "        -978.28401768,  7629.31479487,  9810.98011112,  1149.77856134,\n",
              "        2548.43516479, 14512.29061742, 10501.54007914,  1841.39577283,\n",
              "        -224.99158618,  9265.54108489, 15755.42309527, -1149.84543201,\n",
              "       12147.72995061,  9330.21802531, 30356.77333761,  3653.33962314,\n",
              "         545.20515877, 10684.17012809,  9022.73780012, 30272.28911391,\n",
              "         672.42427126, 16353.28226251,  9013.53855958, 16932.14101336,\n",
              "        8763.20999857, 10702.14625251, 13652.63310542, 13267.91285269,\n",
              "       26057.54552337, 10462.48053567, 36423.84250946,  5145.79821997,\n",
              "        9532.35471109,   926.07280238,  6635.18312192, 34906.78798409,\n",
              "       34158.76753135,  8214.44050747,  9411.37431701,  7688.53439131,\n",
              "       32529.66951388, 25511.65654536,  6777.39016891, 35454.16845154,\n",
              "       33219.62747392,  1609.23659071,  9998.79727626,  6353.29894664,\n",
              "         320.81484993, 27468.57195946,  5412.16153686,  3715.05350858,\n",
              "       12262.46070132,  9555.31534078,  9525.43925938, 14595.51230853,\n",
              "        3855.21657588, 12023.31930406, 35841.13122215, 13831.8140877 ,\n",
              "       29096.40483881, 10532.1206343 , 13508.47897596,  8307.15708673,\n",
              "       30641.07975475, 11799.75474899, 10913.21723476,  5051.51282042,\n",
              "       33133.81423905, 26496.77934186, 11907.79372111,  2425.45213464,\n",
              "       40073.30105238, 24746.02998359, 11451.66087289,  6106.9080695 ,\n",
              "       12198.53478933,  9957.56176616,  3122.99924398, 36902.66308138,\n",
              "        7459.50720854, 10429.20194228,  5980.51463811,  3054.09411045,\n",
              "        9315.71342431, 32270.66906763, 15567.01745264,  6190.19131299,\n",
              "       10564.69475393,  5912.3169414 ,  8956.52809931,  7866.35712614,\n",
              "        4482.86660442, 12337.22896928, 17313.76229093,  4826.20493211,\n",
              "       10269.27278997, 30934.25920084, 13836.30990308,  9759.65327348,\n",
              "       14733.9054845 , 15013.31001096, 33913.26345748,  7685.12399007,\n",
              "        6632.4958633 ,  1590.05645034,  7995.5233211 , 11485.27653018,\n",
              "        5580.34296861,  4338.74057296, 32717.41202635,  6957.46627391,\n",
              "        2839.55977889,  9807.06898534, 14354.56271204, 29550.1352964 ,\n",
              "       10182.87486551, 13822.99846572,  1005.51668237,    72.32794253,\n",
              "       38413.17781168, 27229.70114753, 26637.25516294,  6556.18926638,\n",
              "       30858.07120572, 14228.50887739,  -840.07324389,  8911.75183635,\n",
              "       13619.1000627 , 11509.23467571,  1418.8785819 , 12148.43710257,\n",
              "       15333.31465784, 30788.34335414, 29654.44554492,  5250.65574769,\n",
              "        9583.20074809,  2499.54931054,  7215.57463317,  6645.54235659,\n",
              "       27220.16759396,   814.5900473 ,  4515.0133017 , 36332.3988849 ,\n",
              "       34805.58973835, 36453.53611601,  6103.58021016,  6986.1079207 ,\n",
              "       38454.74734995,  6306.68110274,  5287.9666742 , 37881.90632257,\n",
              "        5323.26143416,  2394.72227414, 16398.81765532, 27936.09993877,\n",
              "        9817.33743134, 37684.21361379, 11562.07174432,  1278.94736183,\n",
              "        2650.87305617,  9439.79236335,  8875.89112834,  6930.15238323,\n",
              "        7026.85741912,  2642.02137428,  9024.07462785, 10720.6914334 ,\n",
              "        9706.00665978, 12744.94323341,  9489.66377145, 31193.25443604,\n",
              "       29453.69520459, 11057.63638097,  6926.14257954, 27519.87626768,\n",
              "       16100.18911202, 14502.11378493,  8747.28306487,  5392.53926128,\n",
              "       15805.26112166, 10823.34510868,  1127.65410752,  3976.08097368,\n",
              "        4994.98837183, 14941.72586559,  4270.84084452, 10243.5168673 ,\n",
              "       13430.53447465, 36555.13522602, 24709.58072542,  3897.41325707,\n",
              "       11426.28321239, 10864.09981814, 10704.65146648, 26290.07775662,\n",
              "        9177.5825869 , 15075.22243459,  5366.66213128, 11346.31472796,\n",
              "       14730.95067629,  5355.25346971, 11734.22431433,  3840.88359743])"
            ]
          },
          "metadata": {
            "tags": []
          },
          "execution_count": 194
        }
      ]
    },
    {
      "metadata": {
        "id": "zSioCk5FkDfQ",
        "colab_type": "text"
      },
      "cell_type": "markdown",
      "source": [
        "**Support Vector Machine**"
      ]
    },
    {
      "metadata": {
        "id": "Vt6gac56kJId",
        "colab_type": "code",
        "outputId": "1c85e0c2-4a93-4ba0-f9ac-e3ac747339ba",
        "colab": {
          "base_uri": "https://localhost:8080/",
          "height": 72
        }
      },
      "cell_type": "code",
      "source": [
        "from sklearn.svm import SVR\n",
        "\n",
        "# creating the model\n",
        "model = SVR()\n",
        "\n",
        "# feeding the training data to the model\n",
        "model.fit(x_train, y_train)\n",
        "\n",
        "# predicting the test set results\n",
        "y_pred = model.predict(x_test)\n",
        "\n",
        "# calculating the mean squared error\n",
        "mse = np.mean((y_test - y_pred)**2, axis = None)\n",
        "print(\"MSE :\", mse)\n",
        "\n",
        "# Calculating the root mean squared error\n",
        "rmse = np.sqrt(mse)\n",
        "print(\"RMSE :\", rmse)\n",
        "\n",
        "# Calculating the r2 score\n",
        "r2 = r2_score(y_test, y_pred)\n",
        "print(\"r2 score :\", r2)\n"
      ],
      "execution_count": 0,
      "outputs": [
        {
          "output_type": "stream",
          "text": [
            "MSE : 174595630.81989565\n",
            "RMSE : 13213.46399775228\n",
            "r2 score : -0.13187810353027452\n"
          ],
          "name": "stdout"
        }
      ]
    },
    {
      "metadata": {
        "id": "GBYaTz7FkdHc",
        "colab_type": "text"
      },
      "cell_type": "markdown",
      "source": [
        "**Random Forest**"
      ]
    },
    {
      "metadata": {
        "id": "mnUYRbumkd1i",
        "colab_type": "code",
        "outputId": "8e6c86eb-a134-4267-fcb0-06140ceb9dcb",
        "colab": {
          "base_uri": "https://localhost:8080/",
          "height": 72
        }
      },
      "cell_type": "code",
      "source": [
        "from sklearn.ensemble import RandomForestRegressor\n",
        "\n",
        "# creating the model\n",
        "model = RandomForestRegressor(n_estimators = 40, max_depth = 4, n_jobs = -1)\n",
        "\n",
        "# feeding the training data to the model\n",
        "model.fit(x_train, y_train)\n",
        "\n",
        "# predicting the test set results\n",
        "y_pred = model.predict(x_test)\n",
        "\n",
        "# calculating the mean squared error\n",
        "mse = np.mean((y_test - y_pred)**2, axis = None)\n",
        "print(\"MSE :\", mse)\n",
        "\n",
        "# Calculating the root mean squared error\n",
        "rmse = np.sqrt(mse)\n",
        "print(\"RMSE :\", rmse)\n",
        "\n",
        "# Calculating the r2 score\n",
        "r2 = r2_score(y_test, y_pred)\n",
        "print(\"r2 score :\", r2)\n"
      ],
      "execution_count": 0,
      "outputs": [
        {
          "output_type": "stream",
          "text": [
            "MSE : 21717508.582995377\n",
            "RMSE : 4660.204779083788\n",
            "r2 score : 0.8592085477002548\n"
          ],
          "name": "stdout"
        }
      ]
    },
    {
      "metadata": {
        "id": "D_2-I93KlEKV",
        "colab_type": "code",
        "outputId": "05b03897-d986-40c8-8cab-bdea344cbe2a",
        "colab": {
          "base_uri": "https://localhost:8080/",
          "height": 1236
        }
      },
      "cell_type": "code",
      "source": [
        "print(y_pred)\n"
      ],
      "execution_count": 0,
      "outputs": [
        {
          "output_type": "stream",
          "text": [
            "[43997.07183262  5643.68376578  5921.56733358 17084.37945398\n",
            " 10808.12037585  5643.68376578  2704.27338491 10453.50494815\n",
            " 44890.79944659 13448.00014646  6815.58337828 10778.77800689\n",
            " 44540.67607466 13700.60463004  2726.85425837 25210.10569283\n",
            " 10743.4046451   8860.72300279 17822.03085522 10101.97821798\n",
            "  2726.85425837  6403.92573644 10313.05051058  7819.12885586\n",
            " 25397.64860244 45400.99154237 14119.98188175  5089.32237084\n",
            "  7023.21485389 10764.2115562   5247.36684177 37646.47046568\n",
            "  2786.5994889  10764.2115562  13503.57329705  6403.92573644\n",
            "  2769.89366917  6815.58337828  2726.85425837  6339.45659245\n",
            "  6599.75848925 23740.30558057  4364.2255701  13503.57329705\n",
            "  6759.06397042 40179.06572487  6445.75323363  2704.27338491\n",
            "  3575.13441081  6584.52071248  7199.93083636 10048.03850355\n",
            " 13503.57329705  2726.85425837  7023.21485389  7724.14041532\n",
            " 20752.59506545  4936.84883426 13503.57329705  6219.10750899\n",
            " 13952.7734646   6480.59535745 10961.69660237  4942.19313587\n",
            "  2726.85425837  5587.16435792 10876.41508633  5247.36684177\n",
            "  6613.67294092 13952.7734646  14027.90484779  2769.89366917\n",
            "  3575.13441081  9833.41341786 15194.7358015   3618.17382161\n",
            "  8740.25579175 10265.93798286 20335.58619397  4407.2649809\n",
            "  2769.89366917  8713.98424598  6385.47567247 18921.138957\n",
            "  2769.89366917 14600.9297751   7023.21485389 14837.20335141\n",
            " 10370.87196394  7312.04785778 14388.00318386 13515.26158722\n",
            " 36944.33537238  7199.93083636 27566.8047367   4421.52615834\n",
            " 10828.20119926  6968.81174639  6516.96650945 45240.52029971\n",
            " 43883.53815074 13379.7485373   7423.25143198  5043.71819894\n",
            " 38750.43675278 17862.77272484  6515.12931064 44268.09086495\n",
            " 26370.51246244  2786.5994889  13699.33726214  7281.54766306\n",
            "  6968.81174639 18312.15627349  4464.56556915  5790.81300075\n",
            " 13503.57329705  6403.92573644  8219.97447317  9646.74966824\n",
            "  3496.03412949  7022.70295657 26483.01437459 13800.96301344\n",
            " 18823.58585548 13838.91470769 14151.72960754  7311.13441056\n",
            " 23270.96171345 13463.18810705 10492.83054219  4789.71959929\n",
            " 41305.68913402 36644.75370543 13503.57329705  2726.85425837\n",
            " 46120.84787211 18142.28314239 13771.72691895  6219.10750899\n",
            " 13700.60463004 10501.71883522  5704.17660158 45400.99154237\n",
            "  6835.80155926 10444.61665512  5145.34388355  6592.8824686\n",
            "  7311.13441056 25803.06045451 13952.7734646   9607.79412618\n",
            "  6385.47567247  8014.17218669  6815.58337828  7124.63456315\n",
            "  2747.31279571 13503.57329705 14447.19451398  2747.31279571\n",
            " 10096.75151967 38033.23622792 10690.46686501 10001.84131419\n",
            " 10711.24991348 13800.96301344 42207.73648087  6516.96650945\n",
            "  5587.16435792  4568.65539331  7134.41842809 13503.57329705\n",
            "  6896.29439507  5643.68376578 38332.81789487  8995.57328902\n",
            "  2704.27338491  4789.71959929 14151.72960754 20335.58619397\n",
            " 10231.57926794 13912.38827461  2769.89366917  2769.89366917\n",
            " 45672.0105747  39101.26381965 17135.72993628  6445.75323363\n",
            " 38033.23622792 10683.2934204   2726.85425837  5102.30447274\n",
            " 13962.73946744 10904.59442227  2769.89366917 13503.57329705\n",
            " 15194.7358015  25458.31923473 37621.66039166  5780.9530547\n",
            "  7023.21485389  2704.27338491  6815.58337828  5869.05465659\n",
            " 37837.40989816  7011.85115719  2807.05802624 45240.52029971\n",
            " 43534.17500521 42617.15936515  6445.75323363  6450.88218377\n",
            " 45960.37662945  9607.79412618  4942.19313587 46244.61246387\n",
            "  4464.56556915  2769.89366917 14004.84694477 17691.71410081\n",
            "  7023.21485389 45842.75052351  7726.15025716  2726.85425837\n",
            "  4936.84883426  7311.13441056  6759.06397042  4789.71959929\n",
            "  6938.08359943  2747.31279571  7423.25143198 13407.92281784\n",
            " 10001.84131419 13503.57329705 10843.71083761 25372.59563362\n",
            " 40179.06572487 13503.57329705  6835.80155926 36929.26994082\n",
            " 14837.20335141 14723.87563881 10354.09095304  2747.31279571\n",
            " 14714.83297891 13838.91470769  2769.89366917  2764.01861544\n",
            "  4789.71959929 13952.7734646   6390.56618962 10196.48473276\n",
            " 10847.99806918 26735.23744304 19973.73925083  6968.81174639\n",
            " 10764.46422343 10722.87168168 13379.7485373  20326.74540138\n",
            "  6759.06397042 13962.73946744  4789.71959929 13500.07362663\n",
            " 13952.7734646   6373.11276461 10755.15873314  6598.01141874]\n"
          ],
          "name": "stdout"
        }
      ]
    },
    {
      "metadata": {
        "id": "yl9z0ApZlSIN",
        "colab_type": "code",
        "outputId": "1957693c-9bba-4885-b680-73abd233f135",
        "colab": {
          "base_uri": "https://localhost:8080/",
          "height": 1145
        }
      },
      "cell_type": "code",
      "source": [
        "print(y_test)"
      ],
      "execution_count": 0,
      "outputs": [
        {
          "output_type": "stream",
          "text": [
            "338     41919.09700\n",
            "620      3659.34600\n",
            "965      4746.34400\n",
            "128     32734.18630\n",
            "329      9144.56500\n",
            "440      4738.26820\n",
            "1215    12890.05765\n",
            "387     30284.64294\n",
            "1037    39725.51805\n",
            "1015    12124.99240\n",
            "878      6282.23500\n",
            "171      8116.68000\n",
            "1090    41676.08110\n",
            "544     10231.49990\n",
            "648      1712.22700\n",
            "664     27037.91410\n",
            "313      8124.40840\n",
            "1293     9301.89355\n",
            "417     18608.26200\n",
            "1280     8283.68070\n",
            "349      1635.73365\n",
            "93       5729.00530\n",
            "400      9264.79700\n",
            "805      7731.85785\n",
            "52      23568.27200\n",
            "94      47291.05500\n",
            "1018    12495.29085\n",
            "981      4500.33925\n",
            "272      7265.70250\n",
            "405     11396.90020\n",
            "           ...     \n",
            "1063     6548.19505\n",
            "30      35585.57600\n",
            "752     14210.53595\n",
            "1084    15019.76005\n",
            "1259    10197.77220\n",
            "90       2026.97410\n",
            "962     14474.67500\n",
            "131     13616.35860\n",
            "1163     2200.83085\n",
            "12       1826.84300\n",
            "671      3943.59540\n",
            "1132    20709.02034\n",
            "1245     5615.36900\n",
            "424      8968.33000\n",
            "718     10848.13430\n",
            "244     29523.16560\n",
            "238     17352.68030\n",
            "984      4915.05985\n",
            "1144     9630.39700\n",
            "844     10072.05505\n",
            "841     12323.93600\n",
            "1250    18648.42170\n",
            "929      6289.75490\n",
            "588     13635.63790\n",
            "1277     4357.04365\n",
            "580     12913.99240\n",
            "786     12741.16745\n",
            "321     24671.66334\n",
            "903      8125.78450\n",
            "613      6753.03800\n",
            "Name: charges, Length: 268, dtype: float64\n"
          ],
          "name": "stdout"
        }
      ]
    },
    {
      "metadata": {
        "id": "m_5LK8wMllAH",
        "colab_type": "text"
      },
      "cell_type": "markdown",
      "source": [
        "**Decision Forest**"
      ]
    },
    {
      "metadata": {
        "id": "4rh8MEXflfts",
        "colab_type": "code",
        "outputId": "4205dde3-f0f3-4851-b4f2-63d1c8c22619",
        "colab": {
          "base_uri": "https://localhost:8080/",
          "height": 72
        }
      },
      "cell_type": "code",
      "source": [
        "from sklearn.tree import DecisionTreeRegressor\n",
        "\n",
        "# creating the model\n",
        "model = DecisionTreeRegressor()\n",
        "\n",
        "# feeding the training data to the model\n",
        "model.fit(x_train, y_train)\n",
        "\n",
        "# predicting the test set results\n",
        "y_pred = model.predict(x_test)\n",
        "\n",
        "# calculating the mean squared error\n",
        "mse = np.mean((y_test - y_pred)**2, axis = None)\n",
        "print(\"MSE :\", mse)\n",
        "\n",
        "# Calculating the root mean squared error\n",
        "rmse = np.sqrt(mse)\n",
        "print(\"RMSE :\", rmse)\n",
        "\n",
        "# Calculating the r2 score\n",
        "r2 = r2_score(y_test, y_pred)\n",
        "print(\"r2 score :\", r2)\n"
      ],
      "execution_count": 0,
      "outputs": [
        {
          "output_type": "stream",
          "text": [
            "MSE : 40187138.67582586\n",
            "RMSE : 6339.3326680200225\n",
            "r2 score : 0.7394726196921615\n"
          ],
          "name": "stdout"
        }
      ]
    }
  ]
}